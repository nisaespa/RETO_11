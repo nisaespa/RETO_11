{
 "cells": [
  {
   "cell_type": "markdown",
   "metadata": {},
   "source": [
    "# Punto 1\n"
   ]
  },
  {
   "cell_type": "code",
   "execution_count": 2,
   "metadata": {},
   "outputs": [
    {
     "name": "stdout",
     "output_type": "stream",
     "text": [
      "Matriz sumada:\n",
      "[8, 10, 12]\n",
      "[14, 16, 18]\n",
      "Matriz restada:\n",
      "[-6, -6, -6]\n",
      "[-6, -6, -6]\n"
     ]
    }
   ],
   "source": [
    "# Función para validar si las matrices son adecuadas para realizar operaciones.\n",
    "def validar(matriz_a, matriz_b):\n",
    "  # Verificar si las matrices tienen la misma cantidad de filas.\n",
    "  if len(matriz_a) != len(matriz_b):\n",
    "    print(\"Las matrices deben tener el mismo tamaño.\")\n",
    "    return False\n",
    "  # Verificar que cada elemento de las matrices sea una lista.\n",
    "  for fila in matriz_a:\n",
    "    if not isinstance(fila, list):\n",
    "      print(\"Las matrices deben ser de tipo numérico.\")\n",
    "      return False\n",
    "    # Verificar que cada elemento dentro de las listas sea de tipo numérico.\n",
    "    for elemento in fila:\n",
    "      if not isinstance(elemento, (int, float)):\n",
    "        print(\"Las matrices deben ser de tipo numérico.\")\n",
    "        return False\n",
    "  # Si todas las validaciones pasan, devolver True.\n",
    "  return True\n",
    "# Función para sumar dos matrices.\n",
    "def sumar_matrices(matriz_a, matriz_b):\n",
    "  # Validar las matrices antes de realizar la operación.\n",
    "  if not validar(matriz_a, matriz_b):\n",
    "    return None\n",
    "  # Inicializar la matriz resultado como una lista vacía.\n",
    "  matriz_resultado = []\n",
    "  # Iterar sobre las filas de ambas matrices simultáneamente.\n",
    "  for fila_a, fila_b in zip(matriz_a, matriz_b):\n",
    "    # Sumar los elementos correspondientes de cada fila y agregarlos a la matriz resultado.\n",
    "    matriz_resultado.append([a + b for a, b in zip(fila_a, fila_b)])\n",
    "  # Devolver la matriz resultado.\n",
    "  return matriz_resultado\n",
    "# Función para restar dos matrices.\n",
    "def resta(matriz_a, matriz_b):\n",
    "  # Validar las matrices antes de realizar la operación.\n",
    "  if not validar(matriz_a, matriz_b):\n",
    "    return None\n",
    "  # Inicializar la matriz resultado como una lista vacía.\n",
    "  matriz_resultado = []\n",
    "  # Iterar sobre las filas de ambas matrices simultáneamente.\n",
    "  for fila_a, fila_b in zip(matriz_a, matriz_b):\n",
    "    # Restar los elementos correspondientes de cada fila y agregarlos a la matriz resultado.\n",
    "    matriz_resultado.append([a - b for a, b in zip(fila_a, fila_b)])\n",
    "  # Devolver la matriz resultado.\n",
    "  return matriz_resultado\n",
    "# Bloque principal para probar las funciones.\n",
    "if __name__ == \"__main__\":\n",
    "  matriz_a = [[1, 2, 3], [4, 5, 6]]\n",
    "  matriz_b = [[7, 8, 9], [10, 11, 12]]\n",
    "  matriz_suma = sumar_matrices(matriz_a, matriz_b)\n",
    "  print(\"Matriz sumada:\")\n",
    "  for fila in matriz_suma:\n",
    "    print(fila)\n",
    "  # Ejemplo de resta de matrices.\n",
    "  matriz_a = [[1, 2, 3], [4, 5, 6]]\n",
    "  matriz_b = [[7, 8, 9], [10, 11, 12]]\n",
    "  matriz_resta = resta(matriz_a, matriz_b)\n",
    "  print(\"Matriz restada:\")\n",
    "  for fila in matriz_resta:\n",
    "    print(fila)\n"
   ]
  },
  {
   "cell_type": "markdown",
   "metadata": {},
   "source": [
    "# Punto 2"
   ]
  },
  {
   "cell_type": "code",
   "execution_count": 3,
   "metadata": {},
   "outputs": [
    {
     "name": "stdout",
     "output_type": "stream",
     "text": [
      "Resultado del producto de matrices:\n",
      "[58, 64]\n",
      "[139, 154]\n"
     ]
    }
   ],
   "source": [
    "# función para validar si las matrices pueden multiplicarse\n",
    "def validar_matrices(matriz1, matriz2):\n",
    "    # Validar si el número de columnas de la primera matriz es igual al número de filas de la segunda matriz\n",
    "    if len(matriz1[0]) != len(matriz2):\n",
    "        raise ValueError(\"No se pueden multiplicar las matrices. Las dimensiones no son compatibles.\")\n",
    "# función para realizar el producto de matrices\n",
    "def producto_matrices(matriz1, matriz2):\n",
    "    # Llamar a la función de validación para asegurarse de que las matrices puedan multiplicarse\n",
    "    validar_matrices(matriz1, matriz2)\n",
    "    # Inicializar la matriz resultante con ceros\n",
    "    resultado = [[0 for _ in range(len(matriz2[0]))] for _ in range(len(matriz1))]\n",
    "    # Realizar el producto de matrices\n",
    "    for i in range(len(matriz1)):\n",
    "        for j in range(len(matriz2[0])):\n",
    "            for k in range(len(matriz2)):\n",
    "                # Sumar el producto de los elementos correspondientes de las matrices\n",
    "                resultado[i][j] += matriz1[i][k] * matriz2[k][j]\n",
    "    return resultado\n",
    "matriz_a = [[1, 2, 3],\n",
    "            [4, 5, 6]]\n",
    "matriz_b = [[7, 8],\n",
    "            [9, 10],\n",
    "            [11, 12]]\n",
    "# Para validar\n",
    "try:\n",
    "    # Intentar calcular el producto de matrices\n",
    "    resultado_producto = producto_matrices(matriz_a, matriz_b)\n",
    "    # Imprimir el resultado del producto de matrices\n",
    "    print(\"Resultado del producto de matrices:\")\n",
    "    for fila in resultado_producto:\n",
    "        print(fila)\n",
    "except ValueError as e:\n",
    "    print(e)"
   ]
  },
  {
   "cell_type": "markdown",
   "metadata": {},
   "source": [
    "# Punto 3"
   ]
  },
  {
   "cell_type": "code",
   "execution_count": 4,
   "metadata": {},
   "outputs": [
    {
     "name": "stdout",
     "output_type": "stream",
     "text": [
      "Matriz transpuesta:\n",
      "[1, 4]\n",
      "[2, 5]\n",
      "[3, 6]\n"
     ]
    }
   ],
   "source": [
    "# función para validar si la matriz puede ser transpuesta\n",
    "def validar_matriz(matriz):\n",
    "    # Validar si la matriz no está vacía\n",
    "    if not matriz:\n",
    "        raise ValueError(\"La matriz ingresada está vacía.\")\n",
    "    # Validar si todas las filas tienen la misma longitud\n",
    "    longitud_fila = len(matriz[0])\n",
    "    if not all(len(fila) == longitud_fila for fila in matriz):\n",
    "        raise ValueError(\"La matriz ingresada no es válida. Las filas deben tener la misma longitud.\")\n",
    "# función para obtener la matriz transpuesta\n",
    "def matriz_transpuesta(matriz):\n",
    "    # Llamar a la función de validación para asegurarse de que la matriz pueda ser transpuesta\n",
    "    validar_matriz(matriz)\n",
    "    # Calcular la matriz transpuesta intercambiando filas y columnas\n",
    "    transpuesta = [[fila[i] for fila in matriz] for i in range(len(matriz[0]))]\n",
    "    return transpuesta\n",
    "matriz_ingresada = [[1, 2, 3],\n",
    "                    [4, 5, 6]]\n",
    "try:\n",
    "    # Intentar obtener la matriz transpuesta\n",
    "    matriz_transpuesta_resultante = matriz_transpuesta(matriz_ingresada) \n",
    "    # Imprimir la matriz transpuesta resultante\n",
    "    print(\"Matriz transpuesta:\")\n",
    "    for fila in matriz_transpuesta_resultante:\n",
    "        print(fila)\n",
    "except ValueError as e:\n",
    "    print(e)"
   ]
  },
  {
   "cell_type": "markdown",
   "metadata": {},
   "source": [
    "# Punto 4\n"
   ]
  },
  {
   "cell_type": "code",
   "execution_count": 7,
   "metadata": {},
   "outputs": [
    {
     "name": "stdout",
     "output_type": "stream",
     "text": [
      "Suma de la columna 0: 12\n"
     ]
    }
   ],
   "source": [
    "# función para validar si la matriz y la columna son válidas\n",
    "def validar_matriz_y_columna(matriz, columna):\n",
    "    # Validar si la matriz no está vacía\n",
    "    if not matriz:\n",
    "        raise ValueError(\"La matriz ingresada está vacía.\")\n",
    "    # Validar si la columna especificada es válida para la matriz\n",
    "    if not (0 <= columna < len(matriz[0])):\n",
    "        raise ValueError(\"La columna especificada no es válida para la matriz.\")\n",
    "# función para sumar los elementos de una columna dada\n",
    "def suma_columna(matriz, columna):\n",
    "    # Llamar a la función de validación para asegurarse de que la matriz y la columna sean válidas\n",
    "    validar_matriz_y_columna(matriz, columna)\n",
    "    # Inicializar la suma de la columna\n",
    "    suma = 0\n",
    "    # Sumar los elementos de la columna especificada\n",
    "    for fila in matriz:\n",
    "        suma += fila[columna]\n",
    "    return suma\n",
    "matriz_ejemplo = [[1, 2, 3],\n",
    "                  [4, 5, 6],\n",
    "                  [7, 8, 9]]\n",
    "columna_dada = 0  # Cambiar el índice de columna según sea necesario\n",
    "try:\n",
    "    # Intentar sumar los elementos de la columna especificada\n",
    "    suma_columna_resultante = suma_columna(matriz_ejemplo, columna_dada)\n",
    "    # Imprimir la suma de la columna resultante\n",
    "    print(f\"Suma de la columna {columna_dada}: {suma_columna_resultante}\")\n",
    "except ValueError as e:\n",
    "    print(e)"
   ]
  },
  {
   "cell_type": "markdown",
   "metadata": {},
   "source": [
    "# Punto 5"
   ]
  },
  {
   "cell_type": "code",
   "execution_count": 9,
   "metadata": {},
   "outputs": [
    {
     "name": "stdout",
     "output_type": "stream",
     "text": [
      "Suma de la fila 0: 6\n"
     ]
    }
   ],
   "source": [
    "# función para validar si la matriz y la fila son válidas\n",
    "def validar_matriz_y_fila(matriz, fila):\n",
    "    # Validar si la matriz no está vacía\n",
    "    if not matriz:\n",
    "        raise ValueError(\"La matriz ingresada está vacía.\")\n",
    "    # Validar si la fila especificada es válida para la matriz\n",
    "    if not (0 <= fila < len(matriz)):\n",
    "        raise ValueError(\"La fila especificada no es válida para la matriz.\")\n",
    "# función para sumar los elementos de una fila dada\n",
    "def suma_fila(matriz, fila):\n",
    "    # función de validación para asegurarse de que la matriz y la fila sean válidas\n",
    "    validar_matriz_y_fila(matriz, fila)\n",
    "    # Inicializar la suma de la fila\n",
    "    suma = sum(matriz[fila])\n",
    "    return suma\n",
    "matriz_ejemplo = [[1, 2, 3],\n",
    "                  [4, 5, 6],\n",
    "                  [7, 8, 9]]\n",
    "fila_dada = 1  # Cambiar el índice de fila según sea necesario\n",
    "try:\n",
    "    # Intentar sumar los elementos de la fila especificada\n",
    "    suma_fila_resultante = suma_fila(matriz_ejemplo, fila_dada)\n",
    "    # Imprimir la suma de la fila resultante\n",
    "    print(f\"Suma de la fila {fila_dada}: {suma_fila_resultante}\")\n",
    "except ValueError as e:\n",
    "    print(e)"
   ]
  }
 ],
 "metadata": {
  "kernelspec": {
   "display_name": "Python 3",
   "language": "python",
   "name": "python3"
  },
  "language_info": {
   "codemirror_mode": {
    "name": "ipython",
    "version": 3
   },
   "file_extension": ".py",
   "mimetype": "text/x-python",
   "name": "python",
   "nbconvert_exporter": "python",
   "pygments_lexer": "ipython3",
   "version": "3.12.0"
  }
 },
 "nbformat": 4,
 "nbformat_minor": 2
}
